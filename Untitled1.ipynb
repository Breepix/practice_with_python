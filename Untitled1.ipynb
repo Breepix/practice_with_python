{
  "nbformat": 4,
  "nbformat_minor": 0,
  "metadata": {
    "colab": {
      "provenance": [],
      "authorship_tag": "ABX9TyPtMDH3haDV/92loVvAuntU",
      "include_colab_link": true
    },
    "kernelspec": {
      "name": "python3",
      "display_name": "Python 3"
    },
    "language_info": {
      "name": "python"
    }
  },
  "cells": [
    {
      "cell_type": "markdown",
      "metadata": {
        "id": "view-in-github",
        "colab_type": "text"
      },
      "source": [
        "<a href=\"https://colab.research.google.com/github/Breepix/practice_with_python/blob/main/Untitled1.ipynb\" target=\"_parent\"><img src=\"https://colab.research.google.com/assets/colab-badge.svg\" alt=\"Open In Colab\"/></a>"
      ]
    },
    {
      "cell_type": "code",
      "execution_count": 4,
      "metadata": {
        "colab": {
          "base_uri": "https://localhost:8080/"
        },
        "id": "J3tnI0M4Wxot",
        "outputId": "1cf9b7d8-0fad-4a76-d38c-a806378b815e"
      },
      "outputs": [
        {
          "output_type": "stream",
          "name": "stdout",
          "text": [
            "You rolled a 7\n"
          ]
        }
      ],
      "source": [
        "# prompt: un dado a 15 facce\n",
        "\n",
        "import random\n",
        "\n",
        "def roll_15_sided_die():\n",
        "  \"\"\"Simulates rolling a 15-sided die.\"\"\"\n",
        "  return random.randint(1, 15)\n",
        "\n",
        "# Example usage:\n",
        "result = roll_15_sided_die()\n",
        "print(f\"You rolled a {result}\")\n"
      ]
    }
  ]
}